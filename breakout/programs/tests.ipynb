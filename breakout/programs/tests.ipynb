{
 "cells": [
  {
   "cell_type": "code",
   "execution_count": 9,
   "id": "2f1c6004",
   "metadata": {},
   "outputs": [],
   "source": [
    "import torch\n",
    "import torch.nn as nn\n",
    "import numpy as np\n",
    "from typing import TypeVar, List, Tuple\n",
    "from utils import addActivation"
   ]
  },
  {
   "cell_type": "code",
   "execution_count": 12,
   "id": "ac993394",
   "metadata": {},
   "outputs": [],
   "source": [
    "class ConvBlock(nn.Module):\n",
    "    \"\"\"\n",
    "    Convolutional portion of the rl model\n",
    "    \"\"\"\n",
    "    def __init__(\n",
    "                self,\n",
    "                parameters: List[Tuple[int]],\n",
    "                activation = \"relu\"):\n",
    "        \"\"\"\n",
    "        params:\n",
    "        parameters: a list of tuples for Conv2ds. Each tuple is for one conv2d\n",
    "        We assume the tuple to be sizes of four,\n",
    "        which are (in_channels, out_channels, kernel_size, stride) informations\n",
    "        the length of the parameters is the number of Conv2ds inserted, and in\n",
    "        the order the tuples in parameters are listed\n",
    "        \n",
    "        activation: activation function to use. Options are relu, leaky\n",
    "        \"\"\"\n",
    "        super(ConvBlock, self).__init__()\n",
    "        modules = []\n",
    "        for in_channels, out_channels, kernel_size, stride in parameters:\n",
    "            conv = nn.Conv2d(in_channels, out_channels, kernel_size, stride=stride)\n",
    "            modules.append(conv)\n",
    "            modules = addActivation(modules, activation)\n",
    "        self.block_ = nn.Sequential(*modules)\n",
    "        \n",
    "    def forward(self, X):\n",
    "        return self.block_(X)"
   ]
  },
  {
   "cell_type": "code",
   "execution_count": 3,
   "id": "bef4d1e2",
   "metadata": {},
   "outputs": [],
   "source": [
    "X = torch.rand((3,2,16,16))"
   ]
  },
  {
   "cell_type": "code",
   "execution_count": 4,
   "id": "04a08cea",
   "metadata": {},
   "outputs": [],
   "source": [
    "in_channels = 2\n",
    "out_channels = 16\n",
    "kernel_size = 8\n",
    "conv = nn.Conv2d(in_channels, out_channels, kernel_size)"
   ]
  },
  {
   "cell_type": "code",
   "execution_count": 6,
   "id": "e9f5e5e1",
   "metadata": {},
   "outputs": [
    {
     "data": {
      "text/plain": [
       "torch.Size([3, 16, 9, 9])"
      ]
     },
     "execution_count": 6,
     "metadata": {},
     "output_type": "execute_result"
    }
   ],
   "source": [
    "conv(X).shape"
   ]
  },
  {
   "cell_type": "code",
   "execution_count": 24,
   "id": "58ced1c8",
   "metadata": {},
   "outputs": [],
   "source": [
    "# define (in_channels, out_channels, kernel_size, stride) \n",
    "conv_params = [\n",
    "    (4, 16, 8, 4),\n",
    "    (16, 32, 4, 2),\n",
    "]\n",
    "conv_block = ConvBlock(conv_params)"
   ]
  },
  {
   "cell_type": "code",
   "execution_count": 33,
   "id": "0bbe5fe6",
   "metadata": {},
   "outputs": [],
   "source": [
    "X = torch.rand((10,4,84,84))"
   ]
  },
  {
   "cell_type": "code",
   "execution_count": 34,
   "id": "6565ac3e",
   "metadata": {},
   "outputs": [
    {
     "name": "stdout",
     "output_type": "stream",
     "text": [
      "torch.Size([10, 16, 20, 20])\n",
      "torch.Size([10, 16, 20, 20])\n",
      "torch.Size([10, 32, 9, 9])\n",
      "torch.Size([10, 32, 9, 9])\n"
     ]
    }
   ],
   "source": [
    "# X =conv_block(X)\n",
    "for layer in conv_block.block_:\n",
    "    X = layer(X)\n",
    "    print(X.shape)"
   ]
  },
  {
   "cell_type": "code",
   "execution_count": 35,
   "id": "2171d51b",
   "metadata": {},
   "outputs": [
    {
     "data": {
      "text/plain": [
       "torch.Size([10, 32, 9, 9])"
      ]
     },
     "execution_count": 35,
     "metadata": {},
     "output_type": "execute_result"
    }
   ],
   "source": [
    "X.shape"
   ]
  },
  {
   "cell_type": "code",
   "execution_count": 28,
   "id": "ef0c5f9b",
   "metadata": {},
   "outputs": [
    {
     "name": "stdout",
     "output_type": "stream",
     "text": [
      "ConvBlock(\n",
      "  (block_): Sequential(\n",
      "    (0): Conv2d(4, 16, kernel_size=(8, 8), stride=(4, 4))\n",
      "    (1): ReLU()\n",
      "    (2): Conv2d(16, 32, kernel_size=(4, 4), stride=(2, 2))\n",
      "    (3): ReLU()\n",
      "  )\n",
      ")\n"
     ]
    }
   ],
   "source": [
    "print(conv_block)"
   ]
  },
  {
   "cell_type": "code",
   "execution_count": 37,
   "id": "5d70da34",
   "metadata": {},
   "outputs": [
    {
     "data": {
      "text/plain": [
       "torch.Size([10, 2592])"
      ]
     },
     "execution_count": 37,
     "metadata": {},
     "output_type": "execute_result"
    }
   ],
   "source": [
    "X.flatten(start_dim = 1).shape"
   ]
  },
  {
   "cell_type": "code",
   "execution_count": 38,
   "id": "72e6b1f1",
   "metadata": {},
   "outputs": [
    {
     "data": {
      "text/plain": [
       "2592"
      ]
     },
     "execution_count": 38,
     "metadata": {},
     "output_type": "execute_result"
    }
   ],
   "source": [
    "32*9*9"
   ]
  },
  {
   "cell_type": "code",
   "execution_count": null,
   "id": "81c2143a",
   "metadata": {},
   "outputs": [],
   "source": []
  }
 ],
 "metadata": {
  "kernelspec": {
   "display_name": "Python 3 (ipykernel)",
   "language": "python",
   "name": "python3"
  },
  "language_info": {
   "codemirror_mode": {
    "name": "ipython",
    "version": 3
   },
   "file_extension": ".py",
   "mimetype": "text/x-python",
   "name": "python",
   "nbconvert_exporter": "python",
   "pygments_lexer": "ipython3",
   "version": "3.8.10"
  }
 },
 "nbformat": 4,
 "nbformat_minor": 5
}
