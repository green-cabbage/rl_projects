{
 "cells": [
  {
   "cell_type": "code",
   "execution_count": 9,
   "id": "a178a29d",
   "metadata": {},
   "outputs": [],
   "source": [
    "import torch\n",
    "import torch.nn as nn\n",
    "import numpy as np\n",
    "from typing import TypeVar, List, Tuple\n",
    "from utils import addActivation"
   ]
  },
  {
   "cell_type": "code",
   "execution_count": 10,
   "id": "37d2b934",
   "metadata": {},
   "outputs": [],
   "source": [
    "class ConvBlock(nn.Module):\n",
    "    \"\"\"\n",
    "    Convolutional portion of the rl model\n",
    "    \"\"\"\n",
    "    def __init__(\n",
    "                self,\n",
    "                parameters: List[Tuple[int]],\n",
    "                activation = \"relu\"):\n",
    "        \"\"\"\n",
    "        params:\n",
    "        parameters: a list of tuples for Conv2ds. Each tuple is for one conv2d\n",
    "        We assume the tuple to be sizes of four,\n",
    "        which are (in_channels, out_channels, kernel_size, stride) informations\n",
    "        the length of the parameters is the number of Conv2ds inserted, and in\n",
    "        the order the tuples in parameters are listed\n",
    "        \n",
    "        activation: activation function to use. Options are relu, leaky\n",
    "        \"\"\"\n",
    "        \n",
    "        modules = []\n",
    "        for in_channels, out_channels, kernel_size, stride in parameters:\n",
    "            conv = nn.Conv2d(in_channels, out_channels, kernel_size, stride=stride)\n",
    "            modules.append(conv)\n",
    "            modules = addActivation(modules, activation)\n",
    "        self.block_ = nn.Sequential(*modules)\n",
    "        \n",
    "    def forward(self, X):\n",
    "        return self.block_(X)"
   ]
  },
  {
   "cell_type": "code",
   "execution_count": 3,
   "id": "a8d9d319",
   "metadata": {},
   "outputs": [],
   "source": [
    "X = torch.rand((3,2,16,16))"
   ]
  },
  {
   "cell_type": "code",
   "execution_count": 4,
   "id": "3db69771",
   "metadata": {},
   "outputs": [],
   "source": [
    "in_channels = 2\n",
    "out_channels = 16\n",
    "kernel_size = 8\n",
    "conv = nn.Conv2d(in_channels, out_channels, kernel_size)"
   ]
  },
  {
   "cell_type": "code",
   "execution_count": 6,
   "id": "f6b48f81",
   "metadata": {},
   "outputs": [
    {
     "data": {
      "text/plain": [
       "torch.Size([3, 16, 9, 9])"
      ]
     },
     "execution_count": 6,
     "metadata": {},
     "output_type": "execute_result"
    }
   ],
   "source": [
    "conv(X).shape"
   ]
  },
  {
   "cell_type": "code",
   "execution_count": null,
   "id": "ccf97e42",
   "metadata": {},
   "outputs": [],
   "source": [
    "# define (in_channels, out_channels, kernel_size, stride) \n",
    "conv_params = [\n",
    "    (4, 16, 8, 4),\n",
    "    (16, 32, 4, 2),\n",
    "]"
   ]
  }
 ],
 "metadata": {
  "kernelspec": {
   "display_name": "Python 3 (ipykernel)",
   "language": "python",
   "name": "python3"
  },
  "language_info": {
   "codemirror_mode": {
    "name": "ipython",
    "version": 3
   },
   "file_extension": ".py",
   "mimetype": "text/x-python",
   "name": "python",
   "nbconvert_exporter": "python",
   "pygments_lexer": "ipython3",
   "version": "3.8.10"
  }
 },
 "nbformat": 4,
 "nbformat_minor": 5
}
